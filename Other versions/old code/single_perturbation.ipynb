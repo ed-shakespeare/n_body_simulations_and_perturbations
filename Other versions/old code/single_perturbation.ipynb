{
 "cells": [
  {
   "cell_type": "code",
   "execution_count": 5,
   "source": [
    "import time \r\n",
    "import numpy as np\r\n",
    "from matplotlib import pyplot as plt\r\n",
    "from matplotlib.animation import FuncAnimation\r\n",
    "from numpy.core import shape_base\r\n",
    "from numpy.core.fromnumeric import shape\r\n",
    "from Integration_methods_bodies import Leapfrog_step\r\n",
    "from test_constants import CoM_pos, CoM_vel, angular_momentum, total_energy, kinetic_energy\r\n",
    "from ode_function import ode_func"
   ],
   "outputs": [],
   "metadata": {}
  },
  {
   "cell_type": "markdown",
   "source": [
    "Plots the fill_matrix for a given successful perturbation simulation."
   ],
   "metadata": {}
  },
  {
   "cell_type": "code",
   "execution_count": 6,
   "source": [
    "################################ Setup ################################ \r\n",
    "######## CHANGE VALUES BELOW ########\r\n",
    "# Setup values\r\n",
    "# Approx 16 orbits per 100 time units\r\n",
    "duration = 1000 # time units, not seconds\r\n",
    "dt = 0.001 # Not needed if CFL stepping, but needs to be declared\r\n",
    "\r\n",
    "## Courant number\r\n",
    "C = 0.1\r\n",
    "\r\n",
    "# Energy error threshold\r\n",
    "e_thresh = 0.05\r\n",
    "box_size = 10\r\n",
    "timestep_size = 10e-4\r\n",
    "\r\n",
    "# Gravitational constant\r\n",
    "G = 1\r\n",
    "#G = 6.67408e-11\r\n",
    "\r\n",
    "# Visualisation\r\n",
    "#vis_type = 'graph'\r\n",
    "#dims = 2\r\n",
    "#plot_more = True\r\n",
    "######## CHANGE VALUES ABOVE ########"
   ],
   "outputs": [],
   "metadata": {}
  },
  {
   "cell_type": "code",
   "execution_count": 7,
   "source": [
    "def perturb_fig_8(v_x_perturbation = 0,v_y_perturbation = 0,plot_more = False):\r\n",
    "    '''\r\n",
    "    Runs the simulation with a perturbation to initial conditions\r\n",
    "    Defaults to no perturbation\r\n",
    "    '''\r\n",
    "    # Fig 8\r\n",
    "    mass = (1,1,1) # Equal masses\r\n",
    "    x_IC_x = 0.97000436\r\n",
    "    x_IC_y = 0.24308753\r\n",
    "    v_IC_x = -0.93240737\r\n",
    "    v_IC_y = -0.86473146\r\n",
    "    x_ICs = (x_IC_x,-x_IC_y,0,-x_IC_x,x_IC_y,0,0,0,0) # x,y,z,x,y,z,...\r\n",
    "    v_ICs = (-v_IC_x/2,-v_IC_y/2,0,-v_IC_x/2,-v_IC_y/2,0,v_IC_x,v_IC_y,0) # x,y,z,x,y,z,...\r\n",
    "    x_ICs = np.asarray(x_ICs)\r\n",
    "    v_ICs = np.asarray(v_ICs)\r\n",
    "    ###### Perturb the v_ICs\r\n",
    "    v_perturb_x = v_IC_x+v_x_perturbation\r\n",
    "    v_perturb_y = v_IC_y+v_y_perturbation\r\n",
    "    v_ICs = (-v_perturb_x/2,-v_perturb_y/2,0,-v_perturb_x/2,-v_perturb_y/2,0,v_perturb_x,v_perturb_y,0) # x,y,z,x,y,z,...\r\n",
    "    ###### Perturb the x_ICs\r\n",
    "    m = 1\r\n",
    "    B = 5/2 * G * m**2\r\n",
    "    D = 3/4 * m\r\n",
    "    R = np.sqrt(x_IC_x**2 + x_IC_y**2)\r\n",
    "    R_hat = B/((B/R) + D*(2*v_x_perturbation*v_IC_x + 2*v_y_perturbation*v_IC_y + v_x_perturbation**2 + v_y_perturbation**2))\r\n",
    "    theta = np.arctan(np.abs(x_IC_y)/np.abs(x_IC_x))\r\n",
    "    x_perturb_x = np.abs(R_hat*np.cos(theta))\r\n",
    "    x_perturb_y = np.abs(R_hat*np.sin(theta))\r\n",
    "    x_ICs = (x_perturb_x,-x_perturb_y,0,-x_perturb_x,x_perturb_y,0,0,0,0) # x,y,z,x,y,z,..\r\n",
    "\r\n",
    "\r\n",
    "    n_bodies = round(len(x_ICs)/3)\r\n",
    "\r\n",
    "    # Check number of bodies is consistent\r\n",
    "    if len(x_ICs) != len(v_ICs) or len(x_ICs) != len(mass)*3:\r\n",
    "        raise Exception('Position and velocity IC vectors must both have 3 times the length of the masses vector')\r\n",
    "\r\n",
    "    x_array = np.empty((3*n_bodies,1))\r\n",
    "    v_array = np.empty((3*n_bodies,1))\r\n",
    "    x_array[:,0] = np.transpose(x_ICs)\r\n",
    "    v_array[:,0] = np.transpose(v_ICs)\r\n",
    "\r\n",
    "    ##  Tracking 'conserved' quantities, and reset to CoM frame\r\n",
    "    # CoM position\r\n",
    "    CoM = np.empty((3,1))\r\n",
    "    CoM[:,0] = CoM_pos(x_array[:,0],mass) # Initial CoM\r\n",
    "    # CoM velocity\r\n",
    "    CoM_v = np.empty((3,1))\r\n",
    "    CoM_v[:,0] = CoM_vel(v_array[:,0],mass) # Initial CoM\r\n",
    "\r\n",
    "    # In centre of mass frame\r\n",
    "    CoM_pos_array = np.tile(CoM,(n_bodies,1))\r\n",
    "    x_array[:,0] = x_array[:,0] - CoM_pos_array[:,0]\r\n",
    "    CoM_vel_array = np.tile(CoM_v,(n_bodies,1))\r\n",
    "    v_array[:,0] = v_array[:,0] - CoM_vel_array[:,0]\r\n",
    "\r\n",
    "    # Angular momentum\r\n",
    "    L = np.empty((3,1))\r\n",
    "    L[:,0] = angular_momentum(x_array[:,0],v_array[:,0],mass) # Initial angular momentum\r\n",
    "    # Energy\r\n",
    "    E = np.empty(1)\r\n",
    "    E[0],r = total_energy(x_array[:,0],v_array[:,0],mass,G) # Initial energy\r\n",
    "\r\n",
    "    ## These are similar to above, except for just CFL values\r\n",
    "    ## dt_CFL_prog is for plotting over time\r\n",
    "    dt_CFL_prog = np.empty(1)\r\n",
    "    dt_CFL_prog[0] = 0\r\n",
    "    ## dt_CFL_store is storing each dt\r\n",
    "    dt_CFL_store= []\r\n",
    "\r\n",
    "    ################################ Run method ################################\r\n",
    "    #t0 = time.time()\r\n",
    "    i = -1\r\n",
    "    while dt_CFL_prog[-1] < duration:\r\n",
    "        i += 1\r\n",
    "        #### Step forward\r\n",
    "        ## Finding CFL dt values\r\n",
    "        del_t = np.ones((n_bodies,n_bodies))\r\n",
    "        for j in range(n_bodies):\r\n",
    "            for k in range(j+1,n_bodies):\r\n",
    "                if r[j,k] != 0:\r\n",
    "                    del_t[j,k] = (C * r[j,k])/np.linalg.norm(v_array[3*j:(j+1)*3,i] - v_array[3*k:(k+1)*3,i])\r\n",
    "                else:\r\n",
    "                    del_t[j,k] = np.max(del_t)\r\n",
    "                del_t[k,j] = del_t[j,k]\r\n",
    "        dt_CFL_0 = np.min(del_t)\r\n",
    "        dt = dt_CFL_0 # Actual timestep to be used\r\n",
    "        # Update position and velocity \r\n",
    "        x_array_test,v_array_test = Leapfrog_step(x_array[:,i],v_array[:,i],ode_func,dt,mass,G)\r\n",
    "\r\n",
    "        #Calculate energy to get r\r\n",
    "        _,r_1 = total_energy(x_array_test,v_array_test,mass,G)\r\n",
    "        #### Recalculate dt at future timestep\r\n",
    "        ## Finding CFL dt values\r\n",
    "        del_t = np.ones((n_bodies,n_bodies))\r\n",
    "        for j in range(n_bodies):\r\n",
    "            for k in range(j+1,n_bodies):\r\n",
    "                if r_1[j,k] != 0:\r\n",
    "                    del_t[j,k] = (C * r_1[j,k])/np.linalg.norm(v_array_test[3*j:(j+1)*3] - v_array_test[3*k:(k+1)*3])\r\n",
    "                else:\r\n",
    "                    del_t[j,k] = np.max(del_t)\r\n",
    "                del_t[k,j] = del_t[j,k]\r\n",
    "\r\n",
    "        dt_CFL_1 = np.min(del_t) # Current variable timestep\r\n",
    "        # Calculate timestep to use\r\n",
    "        dt_CFL = (1/2) * (dt_CFL_0 + dt_CFL_1)\r\n",
    "        # Store and use this dt_CFL\r\n",
    "        dt_CFL_prog = np.append(dt_CFL_prog,dt_CFL_prog[i] + dt_CFL) # This is cumulative vector of dt\r\n",
    "        dt_CFL_store = np.append(dt_CFL_store,dt_CFL) # This stores dt at each time\r\n",
    "        dt = dt_CFL\r\n",
    "        # Update position and velocity \r\n",
    "        x_array_hold,v_array_hold = Leapfrog_step(x_array[:,i],v_array[:,i],ode_func,dt,mass,G)\r\n",
    "        x_array = np.append(x_array,np.reshape(np.asarray(x_array_hold),(-1,1)),axis=1)\r\n",
    "        v_array = np.append(v_array,np.reshape(np.asarray(v_array_hold),(-1,1)),axis=1)\r\n",
    "        ## Track conserved quantities\r\n",
    "        L = np.append(L,np.reshape(np.asarray(angular_momentum(x_array[:,i+1],v_array[:,i+1],mass)),(-1,1)),axis=1)\r\n",
    "        E_hold,r = total_energy(x_array[:,i+1],v_array[:,i+1],mass,G)\r\n",
    "        E = np.append(E,E_hold)\r\n",
    "        ## Stop if position or energy error grows too large\r\n",
    "        final_it = i+1 # Final iteration\r\n",
    "        if np.mod(i,100) == 0:\r\n",
    "            # Every 100 steps, check\r\n",
    "            if any(np.abs(x_array[:,i+1]) > box_size):\r\n",
    "                # If position goes outside square/cube of side length 2*box_size, centred on origin\r\n",
    "                print('Outside box of size {}, so terminated at time {}'.format(box_size,dt_CFL_prog[i+1]))\r\n",
    "                failure_class = 1\r\n",
    "                return failure_class, x_array\r\n",
    "\r\n",
    "            elif np.abs((E[i+1] - E[0])/E[0]) > e_thresh:\r\n",
    "                # If energy error goes above the threshold\r\n",
    "                print('Rel energy error is above {}, so terminated at time {}'.format(e_thresh,dt_CFL_prog[i+1]))\r\n",
    "                failure_class = 2\r\n",
    "                return failure_class, x_array\r\n",
    "\r\n",
    "            elif dt < timestep_size:\r\n",
    "                # If timestep size goes below the threshold\r\n",
    "                print('Timestep size is below {}, so terminated at time {}'.format(timestep_size,dt_CFL_prog[i+1]))\r\n",
    "                failure_class = 3\r\n",
    "                return failure_class, x_array\r\n",
    "\r\n",
    "    #t1 = time.time() - t0    \r\n",
    "    #print('Real time for computation: {} seconds'.format(t1))\r\n",
    "\r\n",
    "       \r\n",
    "    ################################ Visualise ################################\r\n",
    "    #visualise(x_array,mass,'animation',2) \r\n",
    "    # Want this false for grid search simulations\r\n",
    "    if plot_more:\r\n",
    "        t_axis = dt_CFL_prog[:final_it+1]\r\n",
    "        ### Trajectory\r\n",
    "        fig = plt.figure()\r\n",
    "        fig.set_size_inches(18.5, 10.5)\r\n",
    "        gs = fig.add_gridspec(2, 2)\r\n",
    "        # x,y plane\r\n",
    "        ax0 = fig.add_subplot(gs[0, :])\r\n",
    "        ax0.set_title('x-y plane')\r\n",
    "        elements = np.arange(start = 0,stop = (n_bodies)*3,step = 3).astype(int)\r\n",
    "        ax0.plot(np.transpose(x_array[elements,:final_it+1]),np.transpose(x_array[elements+1,:final_it+1]))\r\n",
    "        ax0.set_xlabel('x')\r\n",
    "        ax0.set_ylabel('y')\r\n",
    "        labels = list(map(str,mass))\r\n",
    "        ax0.legend(labels,title = 'Masses of bodies')\r\n",
    "        # x and y against t\r\n",
    "        ax1 = fig.add_subplot(gs[1, :-1])\r\n",
    "        ax1.set_title('x against t')\r\n",
    "        for i in range(n_bodies):\r\n",
    "            ax1.plot(t_axis,x_array[i*3,:final_it+1])\r\n",
    "        ax1.set_xlabel('time')\r\n",
    "        ax1.set_ylabel('x')\r\n",
    "        #\r\n",
    "        ax2 = fig.add_subplot(gs[1:, -1])\r\n",
    "        ax2.set_title('y against t')\r\n",
    "        for i in range(n_bodies):\r\n",
    "            ax2.plot(t_axis,x_array[(i*3) + 1,:final_it+1])\r\n",
    "        ax2.set_xlabel('time')\r\n",
    "        ax2.set_ylabel('y')\r\n",
    "        fig.tight_layout()\r\n",
    "        plt.show()\r\n",
    "\r\n",
    "        # Plot delta t\r\n",
    "        fig, ax = plt.subplots()\r\n",
    "        fig.set_size_inches(18.5, 10.5)\r\n",
    "        ax.plot(np.arange(final_it),dt_CFL_store[:final_it])\r\n",
    "        plt.xlabel('steps')\r\n",
    "        plt.ylabel('dt')\r\n",
    "        plt.title('Plot of dt chosen for each timestep, with C = {}'.format(C))\r\n",
    "        plt.show()\r\n",
    "\r\n",
    "\r\n",
    "        # Plot energy over time\r\n",
    "        E = E[:final_it+1]\r\n",
    "        if E[0] != 0:\r\n",
    "            print('E0 not 0')\r\n",
    "            energy_error = np.abs((E - E[0])/E[0])\r\n",
    "        else:\r\n",
    "            print('E0 is 0')\r\n",
    "            energy_error = np.abs(E - E[0])/np.sum(kinetic_energy(v_array[:,0],mass))\r\n",
    "        fig, ax = plt.subplots()\r\n",
    "        fig.set_size_inches(18.5, 10.5)    \r\n",
    "        ax.plot(t_axis,energy_error)\r\n",
    "        plt.xlabel('time')\r\n",
    "        plt.ylabel('energy error')\r\n",
    "        plt.title('Relative error of energy against time')\r\n",
    "        plt.show()\r\n",
    "\r\n",
    "        # Plot L_z over time\r\n",
    "        L = L[:,:final_it+1] \r\n",
    "        if L[2,0] != 0:\r\n",
    "            print('Lz0 not 0')\r\n",
    "            L_z_error = (L[2,:] - L[2,0])/L[2,0]\r\n",
    "        else:\r\n",
    "            print('Lz0 is 0')\r\n",
    "            x_0 = (x_array[:,0].reshape((3,-1),order = 'F'))\r\n",
    "            v_0 = (v_array[:,0].reshape((3,-1),order = 'F'))\r\n",
    "            CoM = CoM_pos(x_array[:,0],mass).reshape((3,-1))\r\n",
    "            p_0 = v_0*mass[0] # Momentum\r\n",
    "            r_0 = x_0 - CoM # All r vectors\r\n",
    "            L_0 = np.cross(r_0[:,0],p_0[:,0])\r\n",
    "            L_z_error = (L[2,:] - L[2,0])/L_0[2]\r\n",
    "                \r\n",
    "        fig, ax = plt.subplots()\r\n",
    "        fig.set_size_inches(18.5, 10.5)    \r\n",
    "        ax.plot(t_axis,L_z_error)\r\n",
    "        plt.xlabel('time')\r\n",
    "        plt.ylabel('L_z error')\r\n",
    "        plt.title('Relative error of angular momentum (z) against time')\r\n",
    "        plt.show()\r\n",
    "\r\n",
    "    failure_class = 0  #If it reaches the end, it stays as a fig-8\r\n",
    "    print('Ran for full duration (finish time: {})'.format(dt_CFL_prog[final_it]))\r\n",
    "    return failure_class, x_array"
   ],
   "outputs": [],
   "metadata": {
    "cell_id": "00005-c59e112e-5a2f-461f-af2e-df4fff652efd",
    "deepnote_cell_type": "code",
    "deepnote_to_be_reexecuted": false,
    "execution_millis": 170,
    "execution_start": 1610537806772,
    "output_cleared": true,
    "source_hash": "5e50d5fd"
   }
  },
  {
   "cell_type": "code",
   "execution_count": 4,
   "source": [
    "gridsearch = False\r\n",
    "if gridsearch:\r\n",
    "    square_size_x = 0.5\r\n",
    "    square_size_y = 0.2\r\n",
    "    num_of_points_x = 6\r\n",
    "    num_of_points_y = 3\r\n",
    "    perturb_x = np.linspace(-square_size_x,square_size_x,num_of_points_x)\r\n",
    "    perturb_y = np.linspace(-square_size_y,square_size_y,num_of_points_y)\r\n",
    "    \r\n",
    "    failure_class = np.empty((len(perturb_x),len(perturb_y)))\r\n",
    "    #E = np.empty((len(perturb_x),len(perturb_y)))\r\n",
    "    #L_z = np.empty((len(perturb_x),len(perturb_y)))\r\n",
    "\r\n",
    "    for i in range(len(perturb_x)):\r\n",
    "        for j in range(len(perturb_y)):\r\n",
    "            failure_class[i,j],x_array = perturb_fig_8(v_x_perturbation = perturb_x[i],v_y_perturbation = perturb_y[j],plot_more = False)\r\n",
    "            print(perturb_x[i],perturb_y[j],failure_class[i,j])\r\n",
    "    print('Perturbation 1 = {}'.format(perturb_x))\r\n",
    "    print('Perturbation 2 = {}'.format(perturb_y))\r\n",
    "    print('Key:')\r\n",
    "    print('0 = completed','\\n','1 = outside box','\\n','2 = energy error','\\n','3 = timestep error')\r\n",
    "    #print('failure_class = {}'.format(failure_class))\r\n",
    "    #print('Energy = {}'.format(E))\r\n",
    "    #print('Ang mom = {}'.format(L_z))\r\n",
    "\r\n",
    "    #### Plot reason for failure\r\n",
    "    fig, ax = plt.subplots()\r\n",
    "    ax.axis('equal')\r\n",
    "    heatmap = ax.pcolormesh(perturb_x,perturb_y,np.transpose(failure_class),shading='nearest',cmap=plt.cm.get_cmap('Dark2', 4))\r\n",
    "    cbar = plt.colorbar(heatmap)\r\n",
    "    #legend\r\n",
    "    cbar.ax.get_yaxis().set_ticks([])\r\n",
    "    for j, lab in enumerate(['Complete','Position','Energy','Timestep']):\r\n",
    "        cbar.ax.text(6, (4 * j + 2) / 8.0, lab, ha='center', va='center')\r\n",
    "    # put the major ticks at the middle of each cell\r\n",
    "    ax.set_xticks(perturb_x, minor=False)\r\n",
    "    plt.xticks(rotation = 90)\r\n",
    "    ax.set_yticks(perturb_y, minor=False)\r\n",
    "    plt.xlabel('Perturbation of x component of centre particle velocity') \r\n",
    "    plt.ylabel('Perturbation of y component of centre particle velocity')\r\n",
    "    plt.show()\r\n",
    "\r\n",
    "else:\r\n",
    "    # Single perturbation, for testing\r\n",
    "    v_x_perturbation = 1 #-0.575\r\n",
    "    v_y_perturbation = -0.13333333 #0.1625\r\n",
    "    plot_more = False\r\n",
    "    _,x_array = perturb_fig_8(v_x_perturbation,v_y_perturbation,plot_more)\r\n",
    "    print('Key:')\r\n",
    "    print('0 = completed','\\n','1 = outside box','\\n','2 = energy error','\\n','3 = timestep error')"
   ],
   "outputs": [
    {
     "output_type": "stream",
     "name": "stderr",
     "text": [
      "<ipython-input-3-028dc6f10eb8>:82: RuntimeWarning: divide by zero encountered in double_scalars\n",
      "  del_t[j,k] = (C * r[j,k])/np.linalg.norm(v_array[3*j:(j+1)*3,i] - v_array[3*k:(k+1)*3,i])\n"
     ]
    },
    {
     "output_type": "stream",
     "name": "stdout",
     "text": [
      "Ran for full duration (finish time: 1000.0303554588579)\n",
      "Key:\n",
      "0 = completed \n",
      " 1 = outside box \n",
      " 2 = energy error \n",
      " 3 = timestep error\n"
     ]
    }
   ],
   "metadata": {}
  },
  {
   "cell_type": "code",
   "execution_count": 9,
   "source": [
    "print(x_array[:3,:].shape)"
   ],
   "outputs": [
    {
     "output_type": "stream",
     "name": "stdout",
     "text": [
      "(3, 26431)\n"
     ]
    }
   ],
   "metadata": {}
  },
  {
   "cell_type": "code",
   "execution_count": 26,
   "source": [
    "r1 = x_array[:3,:]\r\n",
    "r2 = x_array[3:6,:]\r\n",
    "r3 = x_array[6:,:]\r\n",
    "R1 = r1 - r2\r\n",
    "R2 = r2 - r3\r\n",
    "R3 = r1 - r2\r\n",
    "N = np.linalg.norm(R1,axis = 0) + np.linalg.norm(R2,axis = 0) + np.linalg.norm(R3,axis = 0)\r\n",
    "X1 = R1/N\r\n",
    "X2 = R2/N\r\n",
    "X3 = R3/N\r\n",
    "X1_norm = np.linalg.norm(X1,axis = 0)\r\n",
    "X2_norm = np.linalg.norm(X2,axis = 0)\r\n",
    "X3_norm = np.linalg.norm(X3,axis = 0)\r\n",
    "# These sum to 1 for all time"
   ],
   "outputs": [],
   "metadata": {}
  },
  {
   "cell_type": "code",
   "execution_count": 27,
   "source": [
    "plt.plot(X1_norm,X2_norm)\r\n",
    "plt.xlabel('|X1|')\r\n",
    "plt.ylabel('|X2|')\r\n",
    "plt.show()"
   ],
   "outputs": [
    {
     "output_type": "display_data",
     "data": {
      "text/plain": [
       "<Figure size 432x288 with 1 Axes>"
      ],
      "image/png": "[encoded data removed]"
     },
     "metadata": {
      "needs_background": "light"
     }
    }
   ],
   "metadata": {}
  },
  {
   "cell_type": "code",
   "execution_count": 28,
   "source": [
    "fill_matrix = np.zeros((1000,1000))\r\n",
    "X1_round = np.rint(X1_norm*1000).astype(int)\r\n",
    "X2_round = np.rint(X2_norm*1000).astype(int)\r\n",
    "for i in range(len(X1_round)):\r\n",
    "    fill_matrix[X1_round[i],X2_round[i]] = 1\r\n",
    "print(fill_matrix)"
   ],
   "outputs": [
    {
     "output_type": "stream",
     "name": "stdout",
     "text": [
      "[[0. 0. 0. ... 0. 0. 0.]\n",
      " [0. 0. 0. ... 0. 0. 0.]\n",
      " [0. 0. 0. ... 0. 0. 0.]\n",
      " ...\n",
      " [0. 0. 0. ... 0. 0. 0.]\n",
      " [0. 0. 0. ... 0. 0. 0.]\n",
      " [0. 0. 0. ... 0. 0. 0.]]\n"
     ]
    }
   ],
   "metadata": {}
  },
  {
   "cell_type": "code",
   "execution_count": 31,
   "source": [
    "fig, ax = plt.subplots()\r\n",
    "fig.set_size_inches(18.5, 10.5)\r\n",
    "ax.pcolormesh(np.transpose(fill_matrix))\r\n",
    "plt.show()"
   ],
   "outputs": [
    {
     "output_type": "display_data",
     "data": {
      "text/plain": [
       "<Figure size 1332x756 with 1 Axes>"
      ],
      "image/png": "[encoded data removed]"
     },
     "metadata": {
      "needs_background": "light"
     }
    }
   ],
   "metadata": {}
  },
  {
   "cell_type": "code",
   "execution_count": 30,
   "source": [
    "print(np.sum(fill_matrix))"
   ],
   "outputs": [
    {
     "output_type": "stream",
     "name": "stdout",
     "text": [
      "906.0\n"
     ]
    }
   ],
   "metadata": {}
  },
  {
   "cell_type": "code",
   "execution_count": null,
   "source": [],
   "outputs": [],
   "metadata": {}
  }
 ],
 "metadata": {
  "deepnote_execution_queue": [],
  "deepnote_notebook_id": "f9e4b5db-6c80-4d9b-86f0-5d06b9838f80",
  "kernelspec": {
   "name": "python3",
   "display_name": "Python 3.8.5 64-bit ('base': conda)"
  },
  "language_info": {
   "codemirror_mode": {
    "name": "ipython",
    "version": 3
   },
   "file_extension": ".py",
   "mimetype": "text/x-python",
   "name": "python",
   "nbconvert_exporter": "python",
   "pygments_lexer": "ipython3",
   "version": "3.8.5"
  },
  "interpreter": {
   "hash": "e2b5f934a3aa6d405e7f74b04a89ddfa5af2d9c797f44c832b6ece7f2a401372"
  }
 },
 "nbformat": 4,
 "nbformat_minor": 4
}